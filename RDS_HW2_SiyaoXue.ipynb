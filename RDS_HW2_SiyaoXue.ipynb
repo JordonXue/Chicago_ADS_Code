{
  "cells": [
    {
      "cell_type": "markdown",
      "metadata": {
        "id": "rmoZ7PnaFdYv"
      },
      "source": [
        "# RDS HW2\n",
        "\n",
        "Install the Data Synthesizer library."
      ]
    },
    {
      "cell_type": "code",
      "execution_count": null,
      "metadata": {
        "id": "1VR_j1uKFdY0",
        "colab": {
          "base_uri": "https://localhost:8080/"
        },
        "outputId": "67f76973-3be9-421d-d5d4-6a6d9e699888"
      },
      "outputs": [
        {
          "output_type": "stream",
          "name": "stdout",
          "text": [
            "Looking in indexes: https://pypi.org/simple, https://us-python.pkg.dev/colab-wheels/public/simple/\n",
            "Collecting DataSynthesizer\n",
            "  Downloading DataSynthesizer-0.1.11-py2.py3-none-any.whl (24 kB)\n",
            "Requirement already satisfied: scikit-learn>=0.23.1 in /usr/local/lib/python3.9/dist-packages (from DataSynthesizer) (1.2.2)\n",
            "Requirement already satisfied: pandas>=1.0.5 in /usr/local/lib/python3.9/dist-packages (from DataSynthesizer) (1.5.3)\n",
            "Requirement already satisfied: matplotlib>=3.2.2 in /usr/local/lib/python3.9/dist-packages (from DataSynthesizer) (3.7.1)\n",
            "Requirement already satisfied: seaborn>=0.10.1 in /usr/local/lib/python3.9/dist-packages (from DataSynthesizer) (0.12.2)\n",
            "Requirement already satisfied: numpy>=1.18.5 in /usr/local/lib/python3.9/dist-packages (from DataSynthesizer) (1.22.4)\n",
            "Requirement already satisfied: python-dateutil>=2.8.1 in /usr/local/lib/python3.9/dist-packages (from DataSynthesizer) (2.8.2)\n",
            "Requirement already satisfied: kiwisolver>=1.0.1 in /usr/local/lib/python3.9/dist-packages (from matplotlib>=3.2.2->DataSynthesizer) (1.4.4)\n",
            "Requirement already satisfied: contourpy>=1.0.1 in /usr/local/lib/python3.9/dist-packages (from matplotlib>=3.2.2->DataSynthesizer) (1.0.7)\n",
            "Requirement already satisfied: pyparsing>=2.3.1 in /usr/local/lib/python3.9/dist-packages (from matplotlib>=3.2.2->DataSynthesizer) (3.0.9)\n",
            "Requirement already satisfied: importlib-resources>=3.2.0 in /usr/local/lib/python3.9/dist-packages (from matplotlib>=3.2.2->DataSynthesizer) (5.12.0)\n",
            "Requirement already satisfied: cycler>=0.10 in /usr/local/lib/python3.9/dist-packages (from matplotlib>=3.2.2->DataSynthesizer) (0.11.0)\n",
            "Requirement already satisfied: pillow>=6.2.0 in /usr/local/lib/python3.9/dist-packages (from matplotlib>=3.2.2->DataSynthesizer) (8.4.0)\n",
            "Requirement already satisfied: packaging>=20.0 in /usr/local/lib/python3.9/dist-packages (from matplotlib>=3.2.2->DataSynthesizer) (23.0)\n",
            "Requirement already satisfied: fonttools>=4.22.0 in /usr/local/lib/python3.9/dist-packages (from matplotlib>=3.2.2->DataSynthesizer) (4.39.3)\n",
            "Requirement already satisfied: pytz>=2020.1 in /usr/local/lib/python3.9/dist-packages (from pandas>=1.0.5->DataSynthesizer) (2022.7.1)\n",
            "Requirement already satisfied: six>=1.5 in /usr/local/lib/python3.9/dist-packages (from python-dateutil>=2.8.1->DataSynthesizer) (1.16.0)\n",
            "Requirement already satisfied: joblib>=1.1.1 in /usr/local/lib/python3.9/dist-packages (from scikit-learn>=0.23.1->DataSynthesizer) (1.2.0)\n",
            "Requirement already satisfied: threadpoolctl>=2.0.0 in /usr/local/lib/python3.9/dist-packages (from scikit-learn>=0.23.1->DataSynthesizer) (3.1.0)\n",
            "Requirement already satisfied: scipy>=1.3.2 in /usr/local/lib/python3.9/dist-packages (from scikit-learn>=0.23.1->DataSynthesizer) (1.10.1)\n",
            "Requirement already satisfied: zipp>=3.1.0 in /usr/local/lib/python3.9/dist-packages (from importlib-resources>=3.2.0->matplotlib>=3.2.2->DataSynthesizer) (3.15.0)\n",
            "Installing collected packages: DataSynthesizer\n",
            "Successfully installed DataSynthesizer-0.1.11\n"
          ]
        }
      ],
      "source": [
        "!pip install DataSynthesizer"
      ]
    },
    {
      "cell_type": "code",
      "execution_count": null,
      "metadata": {
        "id": "yd3BwlQ1FdZD"
      },
      "outputs": [],
      "source": [
        "from DataSynthesizer.DataDescriber import DataDescriber\n",
        "from DataSynthesizer.DataGenerator import DataGenerator\n",
        "from DataSynthesizer.ModelInspector import ModelInspector\n",
        "from DataSynthesizer.lib.utils import normalize_given_distribution, read_json_file, pairwise_attributes_mutual_information, mutual_information, set_random_seed\n",
        "\n",
        "from IPython.display import clear_output\n",
        "from scipy.stats import entropy, ks_2samp\n",
        "from scipy.spatial.distance import euclidean\n",
        "from sklearn.metrics import mutual_info_score\n",
        "from random import randint\n",
        "import pandas as pd\n",
        "import matplotlib.pyplot as plt\n",
        "import seaborn as sns\n",
        "%matplotlib inline"
      ]
    },
    {
      "cell_type": "code",
      "execution_count": null,
      "metadata": {
        "id": "M6YGhJ8yFdZO"
      },
      "outputs": [],
      "source": [
        "def generate_data_A(input_data_file, output_data_size, seed=None):\n",
        "    seed = seed or randint(0, 2**30)\n",
        "    description_file = description_files['A']\n",
        "\n",
        "    describer = DataDescriber()\n",
        "    describer.describe_dataset_in_random_mode(input_data_file, seed=seed)\n",
        "    describer.save_dataset_description_to_file(description_file)\n",
        "\n",
        "    generator = DataGenerator()\n",
        "    generator.generate_dataset_in_random_mode(output_data_size, description_file, seed=seed)\n",
        "    return generator.synthetic_dataset"
      ]
    },
    {
      "cell_type": "code",
      "execution_count": null,
      "metadata": {
        "id": "_ucdJfUuFdZe"
      },
      "outputs": [],
      "source": [
        "def generate_data_B(input_data_file, output_data_size, epsilon=0.1, seed=None):\n",
        "    seed = seed or randint(0, 2**30)\n",
        "    description_file = description_files['B']\n",
        "\n",
        "    describer = DataDescriber()\n",
        "    describer.describe_dataset_in_independent_attribute_mode(input_data_file, epsilon=epsilon, seed=seed)\n",
        "    describer.save_dataset_description_to_file(description_file)\n",
        "\n",
        "    generator = DataGenerator()\n",
        "    generator.generate_dataset_in_independent_mode(output_data_size, description_file, seed=seed)\n",
        "    return generator.synthetic_dataset"
      ]
    },
    {
      "cell_type": "code",
      "execution_count": null,
      "metadata": {
        "id": "AiO-8_CPFdZj"
      },
      "outputs": [],
      "source": [
        "def generate_data_CD(input_data_file, output_data_size, description_file, epsilon=0.5, k=1, seed=None):\n",
        "    seed = seed or randint(0, 2**30)\n",
        "\n",
        "    describer = DataDescriber()\n",
        "    describer.describe_dataset_in_correlated_attribute_mode(input_data_file, k=k, epsilon=epsilon, seed=seed)\n",
        "    describer.save_dataset_description_to_file(description_file)\n",
        "\n",
        "    generator = DataGenerator()\n",
        "    generator.generate_dataset_in_correlated_attribute_mode(output_data_size, description_file, seed=seed)\n",
        "    return generator.synthetic_dataset\n",
        "\n",
        "def generate_data_C(input_data_file, output_data_size, epsilon=0.1, seed=None):\n",
        "    return generate_data_CD(input_data_file, output_data_size, description_files['C'], epsilon, k=1, seed=seed)\n",
        "\n",
        "def generate_data_D(input_data_file, output_data_size, epsilon=0.1, seed=None):\n",
        "    return generate_data_CD(input_data_file, output_data_size, description_files['D'], epsilon, k=2, seed=seed)"
      ]
    },
    {
      "cell_type": "markdown",
      "metadata": {
        "id": "_ZaByotmFdZo"
      },
      "source": [
        "Start with a real dataset __hw_compas__ and a fake dataset __hw_xyz__. Generate synthetic datasets of size __N=10000__, in the following four categories:\n",
        "- A:  random mode\n",
        "- B: independent attribute mode with __epsilon = 0.1__\n",
        "- C:  correlated attribute mode with __epsilon = 0.1__, Bayes net degree k=1\n",
        "- D: correlated attribute mode with __epsilon = 0.1__, Bayes net degree k=2"
      ]
    },
    {
      "cell_type": "code",
      "execution_count": null,
      "metadata": {
        "id": "GXqw1Tjl3kdb"
      },
      "outputs": [],
      "source": [
        "# Packages for reading csv file into Colaboratory:\n",
        "!pip install -U -q PyDrive==1.3.1\n",
        "\n",
        "from pydrive.auth import GoogleAuth\n",
        "from pydrive.drive import GoogleDrive\n",
        "from google.colab import auth\n",
        "from oauth2client.client import GoogleCredentials\n",
        "\n",
        "# Authenticate and create the PyDrive client.\n",
        "# Please follow the steps as instructed when you run the following commands.\n",
        "\n",
        "auth.authenticate_user()\n",
        "gauth = GoogleAuth()\n",
        "gauth.credentials = GoogleCredentials.get_application_default()\n",
        "drive = GoogleDrive(gauth)"
      ]
    },
    {
      "cell_type": "code",
      "execution_count": null,
      "metadata": {
        "id": "hecmLsCU3lsg"
      },
      "outputs": [],
      "source": [
        "fileid_compas = '1kgSIBkOM9y0nz_l8LI8ze9TAhF5gbb64'\n",
        "real_data_file = 'hw_compas.csv'\n",
        "\n",
        "fileid_fake = '1b_T0SHQUMbVvZueZ6yXlxTKBHctMgM0k'\n",
        "fake_data_file = 'hw_fake.csv'\n",
        "\n",
        "downloaded = drive.CreateFile({'id':fileid_compas})\n",
        "downloaded.GetContentFile(real_data_file)\n",
        "df_real = pd.read_csv(real_data_file)\n",
        "\n",
        "downloaded = drive.CreateFile({'id':fileid_fake})\n",
        "downloaded.GetContentFile(fake_data_file)\n",
        "df_fake = pd.read_csv(fake_data_file)"
      ]
    },
    {
      "cell_type": "code",
      "execution_count": null,
      "metadata": {
        "id": "cwmlF9kRFdZp"
      },
      "outputs": [],
      "source": [
        "output_data_size = 10000\n",
        "epsilon = 0.1\n",
        "\n",
        "seed = 0  # make the entire notebook reproducible\n",
        "\n",
        "description_files = {'A': './descrption_A.json',\n",
        "                     'B': './descrption_B.json',\n",
        "                     'C': './descrption_C.json',\n",
        "                     'D': './descrption_D.json'}\n",
        "\n",
        "set_random_seed(seed)\n",
        "\n",
        "df_real_A = generate_data_A(real_data_file, output_data_size)\n",
        "df_real_B = generate_data_B(real_data_file, output_data_size, epsilon=epsilon)\n",
        "df_real_C = generate_data_C(real_data_file, output_data_size, epsilon=epsilon)\n",
        "df_real_D = generate_data_D(real_data_file, output_data_size, epsilon=epsilon)\n",
        "\n",
        "df_fake_A = generate_data_A(fake_data_file, output_data_size)\n",
        "df_fake_B = generate_data_B(fake_data_file, output_data_size, epsilon=epsilon)\n",
        "df_fake_C = generate_data_C(fake_data_file, output_data_size, epsilon=epsilon)\n",
        "df_fake_D = generate_data_D(fake_data_file, output_data_size, epsilon=epsilon)\n",
        "\n",
        "clear_output()"
      ]
    },
    {
      "cell_type": "markdown",
      "metadata": {
        "id": "9jSaXvMoFdZu"
      },
      "source": [
        "## Part (a)"
      ]
    },
    {
      "cell_type": "markdown",
      "metadata": {
        "id": "DyXI_gY_FdZx"
      },
      "source": [
        "### Q1\n",
        "\n",
        "Median, Mean, Min, Max of __age__ and __score__ for each A, B, C and D, compare to the ground truth value in __hw_compas__, present results in a table"
      ]
    },
    {
      "cell_type": "code",
      "execution_count": null,
      "metadata": {
        "id": "1uMG1X8DFdZz",
        "colab": {
          "base_uri": "https://localhost:8080/",
          "height": 175
        },
        "outputId": "4943c1bf-8861-4bf1-b229-4919ec7901ac"
      },
      "outputs": [
        {
          "output_type": "display_data",
          "data": {
            "text/plain": [
              "         real_age     A_age    B_age    C_age    D_age  real_score  A_score  \\\n",
              "median  32.000000   51.0000  33.0000  36.0000  39.0000    4.000000   5.0000   \n",
              "mean    35.143319   50.1731  35.7354  41.5788  44.1532    4.371268   4.9392   \n",
              "min     18.000000    0.0000  18.0000  18.0000  18.0000   -1.000000  -1.0000   \n",
              "max     96.000000  100.0000  76.0000  96.0000  96.0000   10.000000  10.0000   \n",
              "\n",
              "        B_score  C_score  D_score  \n",
              "median   4.0000   5.0000    4.000  \n",
              "mean     4.3657   4.9487    4.466  \n",
              "min      1.0000  -1.0000   -1.000  \n",
              "max     10.0000  10.0000   10.000  "
            ],
            "text/html": [
              "\n",
              "  <div id=\"df-e2046549-4382-49b7-be6f-6bc538507faa\">\n",
              "    <div class=\"colab-df-container\">\n",
              "      <div>\n",
              "<style scoped>\n",
              "    .dataframe tbody tr th:only-of-type {\n",
              "        vertical-align: middle;\n",
              "    }\n",
              "\n",
              "    .dataframe tbody tr th {\n",
              "        vertical-align: top;\n",
              "    }\n",
              "\n",
              "    .dataframe thead th {\n",
              "        text-align: right;\n",
              "    }\n",
              "</style>\n",
              "<table border=\"1\" class=\"dataframe\">\n",
              "  <thead>\n",
              "    <tr style=\"text-align: right;\">\n",
              "      <th></th>\n",
              "      <th>real_age</th>\n",
              "      <th>A_age</th>\n",
              "      <th>B_age</th>\n",
              "      <th>C_age</th>\n",
              "      <th>D_age</th>\n",
              "      <th>real_score</th>\n",
              "      <th>A_score</th>\n",
              "      <th>B_score</th>\n",
              "      <th>C_score</th>\n",
              "      <th>D_score</th>\n",
              "    </tr>\n",
              "  </thead>\n",
              "  <tbody>\n",
              "    <tr>\n",
              "      <th>median</th>\n",
              "      <td>32.000000</td>\n",
              "      <td>51.0000</td>\n",
              "      <td>33.0000</td>\n",
              "      <td>36.0000</td>\n",
              "      <td>39.0000</td>\n",
              "      <td>4.000000</td>\n",
              "      <td>5.0000</td>\n",
              "      <td>4.0000</td>\n",
              "      <td>5.0000</td>\n",
              "      <td>4.000</td>\n",
              "    </tr>\n",
              "    <tr>\n",
              "      <th>mean</th>\n",
              "      <td>35.143319</td>\n",
              "      <td>50.1731</td>\n",
              "      <td>35.7354</td>\n",
              "      <td>41.5788</td>\n",
              "      <td>44.1532</td>\n",
              "      <td>4.371268</td>\n",
              "      <td>4.9392</td>\n",
              "      <td>4.3657</td>\n",
              "      <td>4.9487</td>\n",
              "      <td>4.466</td>\n",
              "    </tr>\n",
              "    <tr>\n",
              "      <th>min</th>\n",
              "      <td>18.000000</td>\n",
              "      <td>0.0000</td>\n",
              "      <td>18.0000</td>\n",
              "      <td>18.0000</td>\n",
              "      <td>18.0000</td>\n",
              "      <td>-1.000000</td>\n",
              "      <td>-1.0000</td>\n",
              "      <td>1.0000</td>\n",
              "      <td>-1.0000</td>\n",
              "      <td>-1.000</td>\n",
              "    </tr>\n",
              "    <tr>\n",
              "      <th>max</th>\n",
              "      <td>96.000000</td>\n",
              "      <td>100.0000</td>\n",
              "      <td>76.0000</td>\n",
              "      <td>96.0000</td>\n",
              "      <td>96.0000</td>\n",
              "      <td>10.000000</td>\n",
              "      <td>10.0000</td>\n",
              "      <td>10.0000</td>\n",
              "      <td>10.0000</td>\n",
              "      <td>10.000</td>\n",
              "    </tr>\n",
              "  </tbody>\n",
              "</table>\n",
              "</div>\n",
              "      <button class=\"colab-df-convert\" onclick=\"convertToInteractive('df-e2046549-4382-49b7-be6f-6bc538507faa')\"\n",
              "              title=\"Convert this dataframe to an interactive table.\"\n",
              "              style=\"display:none;\">\n",
              "        \n",
              "  <svg xmlns=\"http://www.w3.org/2000/svg\" height=\"24px\"viewBox=\"0 0 24 24\"\n",
              "       width=\"24px\">\n",
              "    <path d=\"M0 0h24v24H0V0z\" fill=\"none\"/>\n",
              "    <path d=\"M18.56 5.44l.94 2.06.94-2.06 2.06-.94-2.06-.94-.94-2.06-.94 2.06-2.06.94zm-11 1L8.5 8.5l.94-2.06 2.06-.94-2.06-.94L8.5 2.5l-.94 2.06-2.06.94zm10 10l.94 2.06.94-2.06 2.06-.94-2.06-.94-.94-2.06-.94 2.06-2.06.94z\"/><path d=\"M17.41 7.96l-1.37-1.37c-.4-.4-.92-.59-1.43-.59-.52 0-1.04.2-1.43.59L10.3 9.45l-7.72 7.72c-.78.78-.78 2.05 0 2.83L4 21.41c.39.39.9.59 1.41.59.51 0 1.02-.2 1.41-.59l7.78-7.78 2.81-2.81c.8-.78.8-2.07 0-2.86zM5.41 20L4 18.59l7.72-7.72 1.47 1.35L5.41 20z\"/>\n",
              "  </svg>\n",
              "      </button>\n",
              "      \n",
              "  <style>\n",
              "    .colab-df-container {\n",
              "      display:flex;\n",
              "      flex-wrap:wrap;\n",
              "      gap: 12px;\n",
              "    }\n",
              "\n",
              "    .colab-df-convert {\n",
              "      background-color: #E8F0FE;\n",
              "      border: none;\n",
              "      border-radius: 50%;\n",
              "      cursor: pointer;\n",
              "      display: none;\n",
              "      fill: #1967D2;\n",
              "      height: 32px;\n",
              "      padding: 0 0 0 0;\n",
              "      width: 32px;\n",
              "    }\n",
              "\n",
              "    .colab-df-convert:hover {\n",
              "      background-color: #E2EBFA;\n",
              "      box-shadow: 0px 1px 2px rgba(60, 64, 67, 0.3), 0px 1px 3px 1px rgba(60, 64, 67, 0.15);\n",
              "      fill: #174EA6;\n",
              "    }\n",
              "\n",
              "    [theme=dark] .colab-df-convert {\n",
              "      background-color: #3B4455;\n",
              "      fill: #D2E3FC;\n",
              "    }\n",
              "\n",
              "    [theme=dark] .colab-df-convert:hover {\n",
              "      background-color: #434B5C;\n",
              "      box-shadow: 0px 1px 3px 1px rgba(0, 0, 0, 0.15);\n",
              "      filter: drop-shadow(0px 1px 2px rgba(0, 0, 0, 0.3));\n",
              "      fill: #FFFFFF;\n",
              "    }\n",
              "  </style>\n",
              "\n",
              "      <script>\n",
              "        const buttonEl =\n",
              "          document.querySelector('#df-e2046549-4382-49b7-be6f-6bc538507faa button.colab-df-convert');\n",
              "        buttonEl.style.display =\n",
              "          google.colab.kernel.accessAllowed ? 'block' : 'none';\n",
              "\n",
              "        async function convertToInteractive(key) {\n",
              "          const element = document.querySelector('#df-e2046549-4382-49b7-be6f-6bc538507faa');\n",
              "          const dataTable =\n",
              "            await google.colab.kernel.invokeFunction('convertToInteractive',\n",
              "                                                     [key], {});\n",
              "          if (!dataTable) return;\n",
              "\n",
              "          const docLinkHtml = 'Like what you see? Visit the ' +\n",
              "            '<a target=\"_blank\" href=https://colab.research.google.com/notebooks/data_table.ipynb>data table notebook</a>'\n",
              "            + ' to learn more about interactive tables.';\n",
              "          element.innerHTML = '';\n",
              "          dataTable['output_type'] = 'display_data';\n",
              "          await google.colab.output.renderOutput(dataTable, element);\n",
              "          const docLink = document.createElement('div');\n",
              "          docLink.innerHTML = docLinkHtml;\n",
              "          element.appendChild(docLink);\n",
              "        }\n",
              "      </script>\n",
              "    </div>\n",
              "  </div>\n",
              "  "
            ]
          },
          "metadata": {}
        }
      ],
      "source": [
        "# Your code here\n",
        "from IPython.display import display\n",
        "real_age = df_real.agg(\n",
        "    {\n",
        "       \"age\": [\"median\", \"mean\", \"min\", \"max\"],\n",
        "    }\n",
        ")\n",
        "a_age = df_real_A.agg(\n",
        "    {\n",
        "        \"age\": [\"median\", \"mean\", \"min\", \"max\"],\n",
        "    }\n",
        ")\n",
        "b_age = df_real_B.agg(\n",
        "    {\n",
        "        \"age\": [\"median\", \"mean\", \"min\", \"max\"],\n",
        "    }\n",
        ")\n",
        "c_age = df_real_C.agg(\n",
        "    {\n",
        "        \"age\": [\"median\", \"mean\", \"min\", \"max\"],\n",
        "\n",
        "    }\n",
        ")\n",
        "d_age = df_real_D.agg(\n",
        "    {\n",
        "        \"age\": [\"median\", \"mean\", \"min\", \"max\"],\n",
        "    }\n",
        ")\n",
        "ages = pd.concat([real_age, a_age,b_age,c_age,d_age], axis=1)\n",
        "ages.columns = ['real_age', 'A_age', 'B_age','C_age','D_age']\n",
        "\n",
        "real_score = df_real.agg(\n",
        "    {\n",
        "        \"score\": [\"median\", \"mean\", \"min\", \"max\"],\n",
        "    }\n",
        ")\n",
        "\n",
        "a_score = df_real_A.agg(\n",
        "    {\n",
        "        \"score\": [\"median\", \"mean\", \"min\", \"max\"],\n",
        "    }\n",
        ")\n",
        "b_score = df_real_B.agg(\n",
        "    {\n",
        "        \"score\": [\"median\", \"mean\", \"min\", \"max\"],\n",
        "    }\n",
        ")\n",
        "c_score = df_real_C.agg(\n",
        "    {\n",
        "        \"score\": [\"median\", \"mean\", \"min\", \"max\"],\n",
        "    }\n",
        ")\n",
        "d_score = df_real_D.agg(\n",
        "    {\n",
        "        \"score\": [\"median\", \"mean\", \"min\", \"max\"],\n",
        "    }\n",
        ")\n",
        "scores = pd.concat([real_score, a_score,b_score,c_score,d_score], axis=1)\n",
        "scores.columns = ['real_score', 'A_score', 'B_score','C_score','D_score']\n",
        "\n",
        "table = pd.concat([ages, scores], axis=1)\n",
        "display(table)\n"
      ]
    },
    {
      "cell_type": "markdown",
      "source": [
        "B (the independent attribute mode with epsilon = 0.1) is the most accurate because its age and score are both closed to the real dataset. On the other hand, A (random mode) seems to be less accurate on both age and score when we compare it with the real data set. The reason is that random mode is in uniform distribution and randomly generated data with equal probability. Moreover, sicne we didn't set minimum and maximum value for the random generator, it'll randomly generate age values from 0 to 100 with equal opportunities. However, in real dataset, age ranging from 18 to 96 with a skewed distribution instead of a uniform distribution, so A is less accurate comapred with others. It's also the same sense for the score column. Independent mode is more accurate as it learns the sampling of each feature and generates data by sampling from that distribution. In this dataset, age is probably a independent feature, so independent attribute mode can be more accurate than others."
      ],
      "metadata": {
        "id": "GHSNN8UJECFR"
      }
    },
    {
      "cell_type": "markdown",
      "metadata": {
        "id": "ZFgyc2B4FdZ6"
      },
      "source": [
        "### Q2\n",
        "\n",
        "Some more sophisticated statistical measure that’s good for independent attribute mode - __Two-sample Kolmogorov–Smirnov test__ and __KL-divergence__. Also show the difference visually, comparing real vs. synthetic"
      ]
    },
    {
      "cell_type": "code",
      "execution_count": null,
      "metadata": {
        "id": "ZeqtORgGFdZ7",
        "colab": {
          "base_uri": "https://localhost:8080/",
          "height": 420
        },
        "outputId": "357a649c-c7b7-4009-f865-b39fe58c684a"
      },
      "outputs": [
        {
          "output_type": "execute_result",
          "data": {
            "text/plain": [
              "Text(0.5, 1.0, 'Independent Attribute Mode(B)')"
            ]
          },
          "metadata": {},
          "execution_count": 10
        },
        {
          "output_type": "display_data",
          "data": {
            "text/plain": [
              "<Figure size 1440x360 with 3 Axes>"
            ],
            "image/png": "[encoded data removed]"
          },
          "metadata": {}
        }
      ],
      "source": [
        "# Your code here\n",
        "fig, axes = plt.subplots(1,3,figsize = (12,3),dpi =120)\n",
        "axes[0].hist(df_real['age'])\n",
        "axes[0].set_xlabel('age')\n",
        "axes[0].set_title('Real Data(hw_compas)')\n",
        "axes[1].hist(df_real_A['age'])\n",
        "axes[1].set_xlabel('age')\n",
        "axes[1].set_title('Random Mode(A)')\n",
        "axes[2].hist(df_real_B['age'])\n",
        "axes[2].set_xlabel('age')\n",
        "axes[2].set_title('Independent Attribute Mode(B)')"
      ]
    },
    {
      "cell_type": "code",
      "source": [
        "fig, axes = plt.subplots(1,3,figsize = (12,3),dpi =120)\n",
        "axes[0].hist(df_real['sex'],bins=2)\n",
        "axes[0].set_xlabel('sex')\n",
        "axes[0].set_title('Real Data(hw_compas)')\n",
        "axes[1].hist(df_real_A['sex'],bins=2)\n",
        "axes[1].set_xlabel('sex')\n",
        "axes[1].set_title('Random Mode(A)')\n",
        "axes[2].hist(df_real_B['sex'],bins=2)\n",
        "axes[2].set_xlabel('sex')\n",
        "axes[2].set_title('Independent Attribute Mode(B)')"
      ],
      "metadata": {
        "colab": {
          "base_uri": "https://localhost:8080/",
          "height": 420
        },
        "id": "ev2OkyVYHhC9",
        "outputId": "147099f2-c29f-4b6f-8369-9312bad730f2"
      },
      "execution_count": null,
      "outputs": [
        {
          "output_type": "execute_result",
          "data": {
            "text/plain": [
              "Text(0.5, 1.0, 'Independent Attribute Mode(B)')"
            ]
          },
          "metadata": {},
          "execution_count": 11
        },
        {
          "output_type": "display_data",
          "data": {
            "text/plain": [
              "<Figure size 1440x360 with 3 Axes>"
            ],
            "image/png": "[encoded data removed]"
          },
          "metadata": {}
        }
      ]
    },
    {
      "cell_type": "markdown",
      "source": [
        "Independent attribute mode (B) is more similar to real data than random mode (A). Random mode generate data with equal probability, so the age and sex distribution are more uniform. As we can observe from the plot, each group in age and sex has similar counts because they are assigned equal probability when random mode generates them. In comparison, independent attribute mode learns the sampling distribution of each feature indepedently, so the counts in each group are more similar to real data.\n"
      ],
      "metadata": {
        "id": "hJMN-wocIqfI"
      }
    },
    {
      "cell_type": "markdown",
      "metadata": {
        "id": "g-Or3PInFdan"
      },
      "source": [
        "#### Two-sample Kolmogorov–Smirnov test for continous attributes"
      ]
    },
    {
      "cell_type": "code",
      "execution_count": null,
      "metadata": {
        "id": "yTzh1CM6Fdap"
      },
      "outputs": [],
      "source": [
        "def ks_test(df_in: pd.DataFrame, df_out: pd.DataFrame, attr: str):\n",
        "    \"\"\"\n",
        "    df_in: the sensitive dataset\n",
        "    df_out: the synthetic dataset\n",
        "    attr: the attribute that will be calculated for Two-sample Kolmogorov–Smirnov test.\n",
        "    \"\"\"\n",
        "    return ks_2samp(df_in[attr], df_out[attr])[0]"
      ]
    },
    {
      "cell_type": "markdown",
      "metadata": {
        "id": "X1eUjSSxFda3"
      },
      "source": [
        "#### KL-divergence for categorical attributes"
      ]
    },
    {
      "cell_type": "code",
      "execution_count": null,
      "metadata": {
        "id": "cidvm1mAFda3"
      },
      "outputs": [],
      "source": [
        "def get_distribution_of_categorical_attribute(attribute: pd.Series, indicies=None):\n",
        "    distribution = attribute.dropna().value_counts()\n",
        "    if indicies is not None:\n",
        "        for idx in set(indicies) - set(distribution.index):\n",
        "            distribution.loc[idx] = 0\n",
        "    distribution.sort_index(inplace=True)\n",
        "    return distribution/sum(distribution)\n",
        "\n",
        "def kl_test(df_in: pd.DataFrame, df_out: pd.DataFrame, attr: str):\n",
        "    \"\"\"\n",
        "    df_in: the sensitive dataset\n",
        "    df_out: the synthetic dataset\n",
        "    attr: the attribute that will be calculated for KL-divergence.\n",
        "    \"\"\"\n",
        "    distribution_in = get_distribution_of_categorical_attribute(df_in[attr])\n",
        "    distribution_out = get_distribution_of_categorical_attribute(df_out[attr], distribution_in.index)\n",
        "    return entropy(distribution_out, distribution_in)"
      ]
    },
    {
      "cell_type": "code",
      "source": [
        "# Use KS test for age (numerical attribute)\n",
        "ksa = ks_test(df_real, df_real_A,'age')\n",
        "ksb = ks_test(df_real, df_real_B,'age')\n",
        "\n",
        "# Use KL test for sex (categorical attribute)\n",
        "kla = kl_test(df_real, df_real_A,'sex')\n",
        "klb = kl_test(df_real, df_real_B,'sex')\n",
        "\n",
        "# Print results\n",
        "print('KS Test for Age Attribute:')\n",
        "print('KS test result for synthetic data A:',ksa)\n",
        "print('KS test result for synthetic data b:',ksb)\n",
        "\n",
        "print('KL Divergence for Sex Attribute:')\n",
        "print('KL divergence result for synthetic data A:',kla)\n",
        "print('KL divergence result for synthetic data b:',klb)"
      ],
      "metadata": {
        "colab": {
          "base_uri": "https://localhost:8080/"
        },
        "id": "x7lhuOmqJTQN",
        "outputId": "76ef025f-5c54-4abe-f104-71708702d53c"
      },
      "execution_count": null,
      "outputs": [
        {
          "output_type": "stream",
          "name": "stdout",
          "text": [
            "KS Test for Age Attribute:\n",
            "KS test result for synthetic data A: 0.3735091775112699\n",
            "KS test result for synthetic data b: 0.026252445351705345\n",
            "KL Divergence for Sex Attribute:\n",
            "KL divergence result for synthetic data A: 0.22319792405369002\n",
            "KL divergence result for synthetic data b: 0.0002494300869420041\n"
          ]
        }
      ]
    },
    {
      "cell_type": "markdown",
      "source": [
        "Based on the results from Kolmogorov-Smirnov test and Kullback-Leibler divergence, B (independent attribute mode) seems to perform better than A ( random mode). KS test is used to test how similar two distributions are. The KS test statistics measures the biggest gap between the two distributions, so the smaller KS test result indicates more similarities between two datasets. In this sense, the smaller KS test result of B indicates that B has a more similar distribution to the real data, compared with A. On the other hand, KL divergence measures the difference between two distributions for categorical attribute. In this sense, the smaller KL divergence of B indicates a more similar distribution to the real datasets than A. Overall, since B performs better in both numerical and categorical attribute, it's more similar to the real data, which matches the histograms plots above."
      ],
      "metadata": {
        "id": "O3vGNPwXLCA2"
      }
    },
    {
      "cell_type": "markdown",
      "metadata": {
        "id": "XKzIAfI9FdbD"
      },
      "source": [
        "### Q3\n",
        "\n",
        "some more sophisticated statistical measure that’s good for correlated attribute mode, and will be better with k=2 (case D) than with k=1 (case C), __some distance over pairwise correlation coefficients? Also show the difference visually, comparing results on real vs. synthetic datasets__."
      ]
    },
    {
      "cell_type": "code",
      "source": [
        "# Use pairwise_attributes_mutual_information function.\n",
        "# For function parameters, refer to https://github.com/DataResponsibly/DataSynthesizer/blob/master/DataSynthesizer/lib/utils.py#L31\n",
        "# Your code here\n",
        "pwf = pairwise_attributes_mutual_information(df_fake)\n",
        "display(pwf)\n",
        "pwfc = pairwise_attributes_mutual_information(df_fake_C)\n",
        "display(pwfc)\n",
        "pwfd = pairwise_attributes_mutual_information(df_fake_D)\n",
        "display(pwfd)"
      ],
      "metadata": {
        "id": "NNd9mfMOVXrA",
        "colab": {
          "base_uri": "https://localhost:8080/",
          "height": 490
        },
        "outputId": "41c4d4f8-e7dc-4eed-a8a7-ad8e65b7fbc6"
      },
      "execution_count": null,
      "outputs": [
        {
          "output_type": "display_data",
          "data": {
            "text/plain": [
              "           child_1   child_2  parent_1  parent_2\n",
              "child_1   1.000000  0.211242  0.214345  0.195899\n",
              "child_2   0.211242  1.000000  0.208301  0.200690\n",
              "parent_1  0.214345  0.208301  1.000000  0.002421\n",
              "parent_2  0.195899  0.200690  0.002421  1.000000"
            ],
            "text/html": [
              "\n",
              "  <div id=\"df-90090135-3c92-445a-83fd-61d21b72fd74\">\n",
              "    <div class=\"colab-df-container\">\n",
              "      <div>\n",
              "<style scoped>\n",
              "    .dataframe tbody tr th:only-of-type {\n",
              "        vertical-align: middle;\n",
              "    }\n",
              "\n",
              "    .dataframe tbody tr th {\n",
              "        vertical-align: top;\n",
              "    }\n",
              "\n",
              "    .dataframe thead th {\n",
              "        text-align: right;\n",
              "    }\n",
              "</style>\n",
              "<table border=\"1\" class=\"dataframe\">\n",
              "  <thead>\n",
              "    <tr style=\"text-align: right;\">\n",
              "      <th></th>\n",
              "      <th>child_1</th>\n",
              "      <th>child_2</th>\n",
              "      <th>parent_1</th>\n",
              "      <th>parent_2</th>\n",
              "    </tr>\n",
              "  </thead>\n",
              "  <tbody>\n",
              "    <tr>\n",
              "      <th>child_1</th>\n",
              "      <td>1.000000</td>\n",
              "      <td>0.211242</td>\n",
              "      <td>0.214345</td>\n",
              "      <td>0.195899</td>\n",
              "    </tr>\n",
              "    <tr>\n",
              "      <th>child_2</th>\n",
              "      <td>0.211242</td>\n",
              "      <td>1.000000</td>\n",
              "      <td>0.208301</td>\n",
              "      <td>0.200690</td>\n",
              "    </tr>\n",
              "    <tr>\n",
              "      <th>parent_1</th>\n",
              "      <td>0.214345</td>\n",
              "      <td>0.208301</td>\n",
              "      <td>1.000000</td>\n",
              "      <td>0.002421</td>\n",
              "    </tr>\n",
              "    <tr>\n",
              "      <th>parent_2</th>\n",
              "      <td>0.195899</td>\n",
              "      <td>0.200690</td>\n",
              "      <td>0.002421</td>\n",
              "      <td>1.000000</td>\n",
              "    </tr>\n",
              "  </tbody>\n",
              "</table>\n",
              "</div>\n",
              "      <button class=\"colab-df-convert\" onclick=\"convertToInteractive('df-90090135-3c92-445a-83fd-61d21b72fd74')\"\n",
              "              title=\"Convert this dataframe to an interactive table.\"\n",
              "              style=\"display:none;\">\n",
              "        \n",
              "  <svg xmlns=\"http://www.w3.org/2000/svg\" height=\"24px\"viewBox=\"0 0 24 24\"\n",
              "       width=\"24px\">\n",
              "    <path d=\"M0 0h24v24H0V0z\" fill=\"none\"/>\n",
              "    <path d=\"M18.56 5.44l.94 2.06.94-2.06 2.06-.94-2.06-.94-.94-2.06-.94 2.06-2.06.94zm-11 1L8.5 8.5l.94-2.06 2.06-.94-2.06-.94L8.5 2.5l-.94 2.06-2.06.94zm10 10l.94 2.06.94-2.06 2.06-.94-2.06-.94-.94-2.06-.94 2.06-2.06.94z\"/><path d=\"M17.41 7.96l-1.37-1.37c-.4-.4-.92-.59-1.43-.59-.52 0-1.04.2-1.43.59L10.3 9.45l-7.72 7.72c-.78.78-.78 2.05 0 2.83L4 21.41c.39.39.9.59 1.41.59.51 0 1.02-.2 1.41-.59l7.78-7.78 2.81-2.81c.8-.78.8-2.07 0-2.86zM5.41 20L4 18.59l7.72-7.72 1.47 1.35L5.41 20z\"/>\n",
              "  </svg>\n",
              "      </button>\n",
              "      \n",
              "  <style>\n",
              "    .colab-df-container {\n",
              "      display:flex;\n",
              "      flex-wrap:wrap;\n",
              "      gap: 12px;\n",
              "    }\n",
              "\n",
              "    .colab-df-convert {\n",
              "      background-color: #E8F0FE;\n",
              "      border: none;\n",
              "      border-radius: 50%;\n",
              "      cursor: pointer;\n",
              "      display: none;\n",
              "      fill: #1967D2;\n",
              "      height: 32px;\n",
              "      padding: 0 0 0 0;\n",
              "      width: 32px;\n",
              "    }\n",
              "\n",
              "    .colab-df-convert:hover {\n",
              "      background-color: #E2EBFA;\n",
              "      box-shadow: 0px 1px 2px rgba(60, 64, 67, 0.3), 0px 1px 3px 1px rgba(60, 64, 67, 0.15);\n",
              "      fill: #174EA6;\n",
              "    }\n",
              "\n",
              "    [theme=dark] .colab-df-convert {\n",
              "      background-color: #3B4455;\n",
              "      fill: #D2E3FC;\n",
              "    }\n",
              "\n",
              "    [theme=dark] .colab-df-convert:hover {\n",
              "      background-color: #434B5C;\n",
              "      box-shadow: 0px 1px 3px 1px rgba(0, 0, 0, 0.15);\n",
              "      filter: drop-shadow(0px 1px 2px rgba(0, 0, 0, 0.3));\n",
              "      fill: #FFFFFF;\n",
              "    }\n",
              "  </style>\n",
              "\n",
              "      <script>\n",
              "        const buttonEl =\n",
              "          document.querySelector('#df-90090135-3c92-445a-83fd-61d21b72fd74 button.colab-df-convert');\n",
              "        buttonEl.style.display =\n",
              "          google.colab.kernel.accessAllowed ? 'block' : 'none';\n",
              "\n",
              "        async function convertToInteractive(key) {\n",
              "          const element = document.querySelector('#df-90090135-3c92-445a-83fd-61d21b72fd74');\n",
              "          const dataTable =\n",
              "            await google.colab.kernel.invokeFunction('convertToInteractive',\n",
              "                                                     [key], {});\n",
              "          if (!dataTable) return;\n",
              "\n",
              "          const docLinkHtml = 'Like what you see? Visit the ' +\n",
              "            '<a target=\"_blank\" href=https://colab.research.google.com/notebooks/data_table.ipynb>data table notebook</a>'\n",
              "            + ' to learn more about interactive tables.';\n",
              "          element.innerHTML = '';\n",
              "          dataTable['output_type'] = 'display_data';\n",
              "          await google.colab.output.renderOutput(dataTable, element);\n",
              "          const docLink = document.createElement('div');\n",
              "          docLink.innerHTML = docLinkHtml;\n",
              "          element.appendChild(docLink);\n",
              "        }\n",
              "      </script>\n",
              "    </div>\n",
              "  </div>\n",
              "  "
            ]
          },
          "metadata": {}
        },
        {
          "output_type": "display_data",
          "data": {
            "text/plain": [
              "           child_1   child_2  parent_1  parent_2\n",
              "child_1   1.000000  0.229400  0.070395  0.026739\n",
              "child_2   0.229400  1.000000  0.249762  0.114695\n",
              "parent_1  0.070395  0.249762  1.000000  0.028520\n",
              "parent_2  0.026739  0.114695  0.028520  1.000000"
            ],
            "text/html": [
              "\n",
              "  <div id=\"df-2bc68b4a-60ba-41b1-aae8-3f39ef619817\">\n",
              "    <div class=\"colab-df-container\">\n",
              "      <div>\n",
              "<style scoped>\n",
              "    .dataframe tbody tr th:only-of-type {\n",
              "        vertical-align: middle;\n",
              "    }\n",
              "\n",
              "    .dataframe tbody tr th {\n",
              "        vertical-align: top;\n",
              "    }\n",
              "\n",
              "    .dataframe thead th {\n",
              "        text-align: right;\n",
              "    }\n",
              "</style>\n",
              "<table border=\"1\" class=\"dataframe\">\n",
              "  <thead>\n",
              "    <tr style=\"text-align: right;\">\n",
              "      <th></th>\n",
              "      <th>child_1</th>\n",
              "      <th>child_2</th>\n",
              "      <th>parent_1</th>\n",
              "      <th>parent_2</th>\n",
              "    </tr>\n",
              "  </thead>\n",
              "  <tbody>\n",
              "    <tr>\n",
              "      <th>child_1</th>\n",
              "      <td>1.000000</td>\n",
              "      <td>0.229400</td>\n",
              "      <td>0.070395</td>\n",
              "      <td>0.026739</td>\n",
              "    </tr>\n",
              "    <tr>\n",
              "      <th>child_2</th>\n",
              "      <td>0.229400</td>\n",
              "      <td>1.000000</td>\n",
              "      <td>0.249762</td>\n",
              "      <td>0.114695</td>\n",
              "    </tr>\n",
              "    <tr>\n",
              "      <th>parent_1</th>\n",
              "      <td>0.070395</td>\n",
              "      <td>0.249762</td>\n",
              "      <td>1.000000</td>\n",
              "      <td>0.028520</td>\n",
              "    </tr>\n",
              "    <tr>\n",
              "      <th>parent_2</th>\n",
              "      <td>0.026739</td>\n",
              "      <td>0.114695</td>\n",
              "      <td>0.028520</td>\n",
              "      <td>1.000000</td>\n",
              "    </tr>\n",
              "  </tbody>\n",
              "</table>\n",
              "</div>\n",
              "      <button class=\"colab-df-convert\" onclick=\"convertToInteractive('df-2bc68b4a-60ba-41b1-aae8-3f39ef619817')\"\n",
              "              title=\"Convert this dataframe to an interactive table.\"\n",
              "              style=\"display:none;\">\n",
              "        \n",
              "  <svg xmlns=\"http://www.w3.org/2000/svg\" height=\"24px\"viewBox=\"0 0 24 24\"\n",
              "       width=\"24px\">\n",
              "    <path d=\"M0 0h24v24H0V0z\" fill=\"none\"/>\n",
              "    <path d=\"M18.56 5.44l.94 2.06.94-2.06 2.06-.94-2.06-.94-.94-2.06-.94 2.06-2.06.94zm-11 1L8.5 8.5l.94-2.06 2.06-.94-2.06-.94L8.5 2.5l-.94 2.06-2.06.94zm10 10l.94 2.06.94-2.06 2.06-.94-2.06-.94-.94-2.06-.94 2.06-2.06.94z\"/><path d=\"M17.41 7.96l-1.37-1.37c-.4-.4-.92-.59-1.43-.59-.52 0-1.04.2-1.43.59L10.3 9.45l-7.72 7.72c-.78.78-.78 2.05 0 2.83L4 21.41c.39.39.9.59 1.41.59.51 0 1.02-.2 1.41-.59l7.78-7.78 2.81-2.81c.8-.78.8-2.07 0-2.86zM5.41 20L4 18.59l7.72-7.72 1.47 1.35L5.41 20z\"/>\n",
              "  </svg>\n",
              "      </button>\n",
              "      \n",
              "  <style>\n",
              "    .colab-df-container {\n",
              "      display:flex;\n",
              "      flex-wrap:wrap;\n",
              "      gap: 12px;\n",
              "    }\n",
              "\n",
              "    .colab-df-convert {\n",
              "      background-color: #E8F0FE;\n",
              "      border: none;\n",
              "      border-radius: 50%;\n",
              "      cursor: pointer;\n",
              "      display: none;\n",
              "      fill: #1967D2;\n",
              "      height: 32px;\n",
              "      padding: 0 0 0 0;\n",
              "      width: 32px;\n",
              "    }\n",
              "\n",
              "    .colab-df-convert:hover {\n",
              "      background-color: #E2EBFA;\n",
              "      box-shadow: 0px 1px 2px rgba(60, 64, 67, 0.3), 0px 1px 3px 1px rgba(60, 64, 67, 0.15);\n",
              "      fill: #174EA6;\n",
              "    }\n",
              "\n",
              "    [theme=dark] .colab-df-convert {\n",
              "      background-color: #3B4455;\n",
              "      fill: #D2E3FC;\n",
              "    }\n",
              "\n",
              "    [theme=dark] .colab-df-convert:hover {\n",
              "      background-color: #434B5C;\n",
              "      box-shadow: 0px 1px 3px 1px rgba(0, 0, 0, 0.15);\n",
              "      filter: drop-shadow(0px 1px 2px rgba(0, 0, 0, 0.3));\n",
              "      fill: #FFFFFF;\n",
              "    }\n",
              "  </style>\n",
              "\n",
              "      <script>\n",
              "        const buttonEl =\n",
              "          document.querySelector('#df-2bc68b4a-60ba-41b1-aae8-3f39ef619817 button.colab-df-convert');\n",
              "        buttonEl.style.display =\n",
              "          google.colab.kernel.accessAllowed ? 'block' : 'none';\n",
              "\n",
              "        async function convertToInteractive(key) {\n",
              "          const element = document.querySelector('#df-2bc68b4a-60ba-41b1-aae8-3f39ef619817');\n",
              "          const dataTable =\n",
              "            await google.colab.kernel.invokeFunction('convertToInteractive',\n",
              "                                                     [key], {});\n",
              "          if (!dataTable) return;\n",
              "\n",
              "          const docLinkHtml = 'Like what you see? Visit the ' +\n",
              "            '<a target=\"_blank\" href=https://colab.research.google.com/notebooks/data_table.ipynb>data table notebook</a>'\n",
              "            + ' to learn more about interactive tables.';\n",
              "          element.innerHTML = '';\n",
              "          dataTable['output_type'] = 'display_data';\n",
              "          await google.colab.output.renderOutput(dataTable, element);\n",
              "          const docLink = document.createElement('div');\n",
              "          docLink.innerHTML = docLinkHtml;\n",
              "          element.appendChild(docLink);\n",
              "        }\n",
              "      </script>\n",
              "    </div>\n",
              "  </div>\n",
              "  "
            ]
          },
          "metadata": {}
        },
        {
          "output_type": "display_data",
          "data": {
            "text/plain": [
              "           child_1   child_2  parent_1  parent_2\n",
              "child_1   1.000000  0.074153  0.034209  0.221418\n",
              "child_2   0.074153  1.000000  0.203135  0.110479\n",
              "parent_1  0.034209  0.203135  1.000000  0.073704\n",
              "parent_2  0.221418  0.110479  0.073704  1.000000"
            ],
            "text/html": [
              "\n",
              "  <div id=\"df-79a1da97-4268-4aaa-a3cb-e96fb7f052ce\">\n",
              "    <div class=\"colab-df-container\">\n",
              "      <div>\n",
              "<style scoped>\n",
              "    .dataframe tbody tr th:only-of-type {\n",
              "        vertical-align: middle;\n",
              "    }\n",
              "\n",
              "    .dataframe tbody tr th {\n",
              "        vertical-align: top;\n",
              "    }\n",
              "\n",
              "    .dataframe thead th {\n",
              "        text-align: right;\n",
              "    }\n",
              "</style>\n",
              "<table border=\"1\" class=\"dataframe\">\n",
              "  <thead>\n",
              "    <tr style=\"text-align: right;\">\n",
              "      <th></th>\n",
              "      <th>child_1</th>\n",
              "      <th>child_2</th>\n",
              "      <th>parent_1</th>\n",
              "      <th>parent_2</th>\n",
              "    </tr>\n",
              "  </thead>\n",
              "  <tbody>\n",
              "    <tr>\n",
              "      <th>child_1</th>\n",
              "      <td>1.000000</td>\n",
              "      <td>0.074153</td>\n",
              "      <td>0.034209</td>\n",
              "      <td>0.221418</td>\n",
              "    </tr>\n",
              "    <tr>\n",
              "      <th>child_2</th>\n",
              "      <td>0.074153</td>\n",
              "      <td>1.000000</td>\n",
              "      <td>0.203135</td>\n",
              "      <td>0.110479</td>\n",
              "    </tr>\n",
              "    <tr>\n",
              "      <th>parent_1</th>\n",
              "      <td>0.034209</td>\n",
              "      <td>0.203135</td>\n",
              "      <td>1.000000</td>\n",
              "      <td>0.073704</td>\n",
              "    </tr>\n",
              "    <tr>\n",
              "      <th>parent_2</th>\n",
              "      <td>0.221418</td>\n",
              "      <td>0.110479</td>\n",
              "      <td>0.073704</td>\n",
              "      <td>1.000000</td>\n",
              "    </tr>\n",
              "  </tbody>\n",
              "</table>\n",
              "</div>\n",
              "      <button class=\"colab-df-convert\" onclick=\"convertToInteractive('df-79a1da97-4268-4aaa-a3cb-e96fb7f052ce')\"\n",
              "              title=\"Convert this dataframe to an interactive table.\"\n",
              "              style=\"display:none;\">\n",
              "        \n",
              "  <svg xmlns=\"http://www.w3.org/2000/svg\" height=\"24px\"viewBox=\"0 0 24 24\"\n",
              "       width=\"24px\">\n",
              "    <path d=\"M0 0h24v24H0V0z\" fill=\"none\"/>\n",
              "    <path d=\"M18.56 5.44l.94 2.06.94-2.06 2.06-.94-2.06-.94-.94-2.06-.94 2.06-2.06.94zm-11 1L8.5 8.5l.94-2.06 2.06-.94-2.06-.94L8.5 2.5l-.94 2.06-2.06.94zm10 10l.94 2.06.94-2.06 2.06-.94-2.06-.94-.94-2.06-.94 2.06-2.06.94z\"/><path d=\"M17.41 7.96l-1.37-1.37c-.4-.4-.92-.59-1.43-.59-.52 0-1.04.2-1.43.59L10.3 9.45l-7.72 7.72c-.78.78-.78 2.05 0 2.83L4 21.41c.39.39.9.59 1.41.59.51 0 1.02-.2 1.41-.59l7.78-7.78 2.81-2.81c.8-.78.8-2.07 0-2.86zM5.41 20L4 18.59l7.72-7.72 1.47 1.35L5.41 20z\"/>\n",
              "  </svg>\n",
              "      </button>\n",
              "      \n",
              "  <style>\n",
              "    .colab-df-container {\n",
              "      display:flex;\n",
              "      flex-wrap:wrap;\n",
              "      gap: 12px;\n",
              "    }\n",
              "\n",
              "    .colab-df-convert {\n",
              "      background-color: #E8F0FE;\n",
              "      border: none;\n",
              "      border-radius: 50%;\n",
              "      cursor: pointer;\n",
              "      display: none;\n",
              "      fill: #1967D2;\n",
              "      height: 32px;\n",
              "      padding: 0 0 0 0;\n",
              "      width: 32px;\n",
              "    }\n",
              "\n",
              "    .colab-df-convert:hover {\n",
              "      background-color: #E2EBFA;\n",
              "      box-shadow: 0px 1px 2px rgba(60, 64, 67, 0.3), 0px 1px 3px 1px rgba(60, 64, 67, 0.15);\n",
              "      fill: #174EA6;\n",
              "    }\n",
              "\n",
              "    [theme=dark] .colab-df-convert {\n",
              "      background-color: #3B4455;\n",
              "      fill: #D2E3FC;\n",
              "    }\n",
              "\n",
              "    [theme=dark] .colab-df-convert:hover {\n",
              "      background-color: #434B5C;\n",
              "      box-shadow: 0px 1px 3px 1px rgba(0, 0, 0, 0.15);\n",
              "      filter: drop-shadow(0px 1px 2px rgba(0, 0, 0, 0.3));\n",
              "      fill: #FFFFFF;\n",
              "    }\n",
              "  </style>\n",
              "\n",
              "      <script>\n",
              "        const buttonEl =\n",
              "          document.querySelector('#df-79a1da97-4268-4aaa-a3cb-e96fb7f052ce button.colab-df-convert');\n",
              "        buttonEl.style.display =\n",
              "          google.colab.kernel.accessAllowed ? 'block' : 'none';\n",
              "\n",
              "        async function convertToInteractive(key) {\n",
              "          const element = document.querySelector('#df-79a1da97-4268-4aaa-a3cb-e96fb7f052ce');\n",
              "          const dataTable =\n",
              "            await google.colab.kernel.invokeFunction('convertToInteractive',\n",
              "                                                     [key], {});\n",
              "          if (!dataTable) return;\n",
              "\n",
              "          const docLinkHtml = 'Like what you see? Visit the ' +\n",
              "            '<a target=\"_blank\" href=https://colab.research.google.com/notebooks/data_table.ipynb>data table notebook</a>'\n",
              "            + ' to learn more about interactive tables.';\n",
              "          element.innerHTML = '';\n",
              "          dataTable['output_type'] = 'display_data';\n",
              "          await google.colab.output.renderOutput(dataTable, element);\n",
              "          const docLink = document.createElement('div');\n",
              "          docLink.innerHTML = docLinkHtml;\n",
              "          element.appendChild(docLink);\n",
              "        }\n",
              "      </script>\n",
              "    </div>\n",
              "  </div>\n",
              "  "
            ]
          },
          "metadata": {}
        }
      ]
    },
    {
      "cell_type": "code",
      "source": [
        "# Use can sns.heatmap for pairwise mutual information\n",
        "# For examples, refer to https://seaborn.pydata.org/generated/seaborn.heatmap.html\n",
        "# Your code here\n",
        "fig, axes = plt.subplots(1,3,figsize=(18,3))\n",
        "\n",
        "sns.heatmap(pwf,vmin=0,vmax=1, ax=axes[0])\n",
        "axes[0].set_title('hw_fake')\n",
        "sns.heatmap(pwfc,vmin=0,vmax=1, ax=axes[1])\n",
        "axes[1].set_title('Correlated Attributed Mode (C, k=1)')\n",
        "sns.heatmap(pwfd,vmin=0,vmax=1, ax=axes[2])\n",
        "axes[2].set_title('Correlated Attributed Mode (D, k=2)')\n",
        "plt.show()"
      ],
      "metadata": {
        "id": "beIDrJn3VYbS",
        "colab": {
          "base_uri": "https://localhost:8080/",
          "height": 300
        },
        "outputId": "76c94602-2b37-4d0a-a5a6-9c745b31557a"
      },
      "execution_count": null,
      "outputs": [
        {
          "output_type": "display_data",
          "data": {
            "text/plain": [
              "<Figure size 1800x300 with 6 Axes>"
            ],
            "image/png": "[encoded data removed]"
          },
          "metadata": {}
        }
      ]
    },
    {
      "cell_type": "markdown",
      "source": [
        "Mutual information measures how dependent two random variables are. Based on the heat, I think C (correlated attributed mode with k=1) perform better in preserving mutual information than D (coorelated attributed mode with k=2). As we can see, the color of heatmat of C is more similar to heatmap of hw_fake. K is the Bayesian network degree, which indicates the maximum number of parents any node in the Bayesian net can have. In this case, k=1 seems to better preserve mutual information."
      ],
      "metadata": {
        "id": "5Q9axE5345Jz"
      }
    },
    {
      "cell_type": "markdown",
      "metadata": {
        "id": "FpoWEnYTFdbb"
      },
      "source": [
        "## Part (b)\n",
        "\n",
        "Study the variability in accuracy of answers to Q1 and Q2 for A, B and C: fix epsilon = 0.1, generate __10__ synthetic databases (by specifying different seeds).  Plot accuracy as a box-and-whiskers plot.  "
      ]
    },
    {
      "cell_type": "code",
      "execution_count": null,
      "metadata": {
        "id": "xTEwLoi0Fdbb"
      },
      "outputs": [],
      "source": [
        "# You can use sns.boxplot for the plots\n",
        "# For examples, refer to https://seaborn.pydata.org/generated/seaborn.boxplot.html\n",
        "# Your code here\n",
        "mean_A, mean_B, mean_C, median_A, median_B, median_C = [],[],[],[],[],[]\n",
        "for seed in range(10):\n",
        "  set_random_seed(seed)\n",
        "  df_real_A_new = generate_data_A(real_data_file, output_data_size)\n",
        "  df_real_B_new = generate_data_B(real_data_file, output_data_size, epsilon=0.1)\n",
        "  df_real_C_new = generate_data_C(real_data_file, output_data_size, epsilon=0.1)\n",
        "  mean_A.append(df_real_A_new['age'].mean())\n",
        "  mean_B.append(df_real_B_new['age'].mean())\n",
        "  mean_C.append(df_real_C_new['age'].mean())\n",
        "  median_A.append(df_real_A_new['age'].median())\n",
        "  median_B.append(df_real_B_new['age'].median())\n",
        "  median_C.append(df_real_C_new['age'].median())\n",
        "clear_output()"
      ]
    },
    {
      "cell_type": "code",
      "source": [
        "mean_A_df = pd.DataFrame(mean_A)\n",
        "mean_B_df = pd.DataFrame(mean_B)\n",
        "mean_C_df = pd.DataFrame(mean_C)\n",
        "mean_df = pd.concat([mean_A_df, mean_B_df, mean_C_df], axis=1)\n",
        "mean_df.columns = ['A_age', 'B_age','C_age']\n",
        "median_A_df = pd.DataFrame(median_A)\n",
        "median_B_df = pd.DataFrame(median_B)\n",
        "median_C_df = pd.DataFrame(median_C)\n",
        "median_df = pd.concat([median_A_df, median_B_df, median_C_df], axis=1)\n",
        "median_df.columns = ['A_age', 'B_age','C_age']"
      ],
      "metadata": {
        "id": "wPetvugJaVAF"
      },
      "execution_count": null,
      "outputs": []
    },
    {
      "cell_type": "code",
      "source": [
        "#Plot\n",
        "fig, axes = plt.subplots(1, 2)\n",
        "sns.set(rc = {'figure.figsize':(18,8)})\n",
        "sns.boxplot(data= mean_df, ax=axes[0])\n",
        "axes[0].set_title('Mean')\n",
        "l1=axes[0].axhline(df_real['age'].mean(),color='gray',ls='--')\n",
        "sns.boxplot(data= median_df, ax=axes[1])\n",
        "l2=axes[1].axhline(df_real['age'].median(),color='gray',ls='--')\n",
        "axes[1].set_title('Median')\n",
        "plt.show()"
      ],
      "metadata": {
        "id": "VgmtDODWYd7I",
        "colab": {
          "base_uri": "https://localhost:8080/",
          "height": 458
        },
        "outputId": "522f3d6e-07b4-4885-efba-7869019b1e10"
      },
      "execution_count": null,
      "outputs": [
        {
          "output_type": "display_data",
          "data": {
            "text/plain": [
              "<Figure size 640x480 with 2 Axes>"
            ],
            "image/png": "[encoded data removed]"
          },
          "metadata": {}
        }
      ]
    },
    {
      "cell_type": "markdown",
      "source": [
        "The dashed line is the ground truth (mean and median from the real data). Hence, based on the plots, B (independent attribute mode) performs the best because its results are the closest to the ground truth. A possible explanation is that indepedent attribute mode study the distribution of each feature independently and generates a distribution for age that is similar to the original distribution. Hence, when we use median or mean (dispersion statistics) to measure the performance, independent attribute mode will perform the best because its distribution or dispersion is learned from the age feature of real data. As for A (random mode), the distribution is uniform, so mean and median will be around 50 (0+100/2, based on the definition of uniform distribution). As for C (correlated attributed mode), since we are learning conditional probabilities and correlations, more noises will be involved in the model, so it'll be less accurate when we analyze individual feature that doesn't have much correlation such as age. Besides, among the three modes, A is the least variable through different seeds. The reason is that A will generate data randomly with equal probability every single run, so results will be pretty stable. In comparison, C is the most variable. One reason is that C\n",
        "needs to learn the correlation every time, which involves more noises and is the most complex generating process. Hence, performance of C may vary more."
      ],
      "metadata": {
        "id": "cD9SKvRwA4ME"
      }
    },
    {
      "cell_type": "markdown",
      "metadata": {
        "id": "UINl2ivCFdbk"
      },
      "source": [
        "## Part (c)\n",
        "\n",
        "Study how accuracy of Q3 changes for case **C**, as you vary __epsilon__ = [0.02, 0.04, 0.06, 0.08, 0.1]."
      ]
    },
    {
      "cell_type": "code",
      "source": [
        "epsilons = [0.02,0.04,0.06,0.08,0.1]\n",
        "klb_df = pd.DataFrame(columns = ['KL_Divergence', 'epsilon'])\n",
        "klc_df = pd.DataFrame(columns = ['KL_Divergence', 'epsilon'])\n",
        "kld_df = pd.DataFrame(columns = ['KL_Divergence', 'epsilon'])\n",
        "for epsilon in epsilons:\n",
        "  for seed in range(10):\n",
        "    set_random_seed(seed)\n",
        "    df_real_B_newb = generate_data_B(real_data_file, output_data_size, epsilon=epsilon)\n",
        "    df_real_C_newb = generate_data_C(real_data_file, output_data_size, epsilon=epsilon)\n",
        "    df_real_D_newb = generate_data_D(real_data_file, output_data_size, epsilon=epsilon)\n",
        "\n",
        "    klb_df = klb_df.append({\"KL_Divergence\": kl_test(df_real, df_real_B_newb,'race'),\"epsilon\":epsilon},ignore_index = True)\n",
        "    klc_df = klc_df.append({\"KL_Divergence\": kl_test(df_real, df_real_C_newb,'race'),\"epsilon\":epsilon},ignore_index = True)\n",
        "    kld_df = kld_df.append({\"KL_Divergence\": kl_test(df_real, df_real_D_newb,'race'),\"epsilon\":epsilon},ignore_index = True)\n",
        "clear_output()"
      ],
      "metadata": {
        "id": "rftYkuiC3XU5"
      },
      "execution_count": null,
      "outputs": []
    },
    {
      "cell_type": "code",
      "source": [
        "fig, axes = plt.subplots(1, 3)\n",
        "sns.set(rc = {'figure.figsize':(18,8)})\n",
        "sns.boxplot(x='epsilon',y='KL_Divergence',data= klb_df, ax=axes[0]);\n",
        "axes[0].set_title('KL Divergence B')\n",
        "sns.boxplot(x='epsilon',y='KL_Divergence',data= klc_df, ax=axes[1]);\n",
        "axes[1].set_title('KL Divergence C')\n",
        "sns.boxplot(x='epsilon',y='KL_Divergence',data= kld_df, ax=axes[2]);\n",
        "axes[2].set_title('KL Divergence D')\n",
        "plt.show()"
      ],
      "metadata": {
        "colab": {
          "base_uri": "https://localhost:8080/",
          "height": 682
        },
        "id": "ks1uuUi9QL5b",
        "outputId": "d585a34c-cc58-4896-dcec-22f616ab4850"
      },
      "execution_count": null,
      "outputs": [
        {
          "output_type": "display_data",
          "data": {
            "text/plain": [
              "<Figure size 1800x800 with 3 Axes>"
            ],
            "image/png": "[encoded data removed]"
          },
          "metadata": {}
        }
      ]
    },
    {
      "cell_type": "markdown",
      "source": [
        "As for both B (independent attribute mode) and C (correlated attribute mode with k=1), the KL divergence is becoming smaller and smaller and becoming more and more stable across different runs as the epsilon values increase. However, as for C (correlated attribute mode with k=2), the KL divergence is becoming smaller and geting stable when epsilon increases from 0.02 to 0.04, but the KL divergence is more variable when the epsilon increases further though the mean KL divergence is getting smaller. One possible reason is that epsilon values greater than 0.04 are too big for C, so it creates too much noises for the model. Hence, C is showing more variability. As for the other two models, greater epsilon values may be helpful for the model to better fit the data because epsilon values are not too big yet. Also, we can also notice that B performs the best in getting the smallest KL divergence among the three. This can be explained by the same reason we used in part a) and b) that independent random mode can better learn distribution of individual feature."
      ],
      "metadata": {
        "id": "G7mYPvsiGe3M"
      }
    }
  ],
  "metadata": {
    "colab": {
      "provenance": []
    },
    "kernelspec": {
      "display_name": "Python 3",
      "language": "python",
      "name": "python3"
    },
    "language_info": {
      "codemirror_mode": {
        "name": "ipython",
        "version": 3
      },
      "file_extension": ".py",
      "mimetype": "text/x-python",
      "name": "python",
      "nbconvert_exporter": "python",
      "pygments_lexer": "ipython3",
      "version": "3.7.1"
    }
  },
  "nbformat": 4,
  "nbformat_minor": 0
}
